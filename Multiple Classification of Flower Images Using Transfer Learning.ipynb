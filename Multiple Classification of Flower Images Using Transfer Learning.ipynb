{
  "nbformat": 4,
  "nbformat_minor": 0,
  "metadata": {
    "colab": {
      "provenance": []
    },
    "kernelspec": {
      "name": "python3",
      "display_name": "Python 3"
    },
    "language_info": {
      "name": "python"
    },
    "accelerator": "GPU",
    "gpuClass": "standard"
  },
  "cells": [
    {
      "cell_type": "code",
      "execution_count": null,
      "metadata": {
        "colab": {
          "base_uri": "https://localhost:8080/"
        },
        "id": "wCQ8Eza52DWR",
        "outputId": "2b67b931-3fce-4667-e91b-a092454b7d8e"
      },
      "outputs": [
        {
          "output_type": "stream",
          "name": "stdout",
          "text": [
            "Drive already mounted at /content/drive; to attempt to forcibly remount, call drive.mount(\"/content/drive\", force_remount=True).\n"
          ]
        }
      ],
      "source": [
        "from google.colab import drive\n",
        "drive.mount('/content/drive')"
      ]
    },
    {
      "cell_type": "code",
      "source": [
        "DIR_PATH = '/content/drive/MyDrive/flowers'"
      ],
      "metadata": {
        "id": "Q7iYqqzN2Six"
      },
      "execution_count": null,
      "outputs": []
    },
    {
      "cell_type": "code",
      "source": [
        "\n",
        "\n",
        "import os\n",
        "import numpy as np\n",
        "import pandas as pd\n",
        "import matplotlib.pyplot as plt\n",
        "\n",
        "from sklearn.metrics import accuracy_score, f1_score\n",
        "from sklearn.metrics import ConfusionMatrixDisplay, confusion_matrix\n",
        "from sklearn.metrics import classification_report\n",
        "import itertools\n",
        "\n",
        "import torch\n",
        "import torch.nn as nn\n",
        "import torchvision\n",
        "from torch.utils.data import Dataset,DataLoader\n",
        "import torchvision.transforms as transforms\n",
        "import torch.nn.functional as F\n",
        "import warnings\n",
        "warnings.filterwarnings('ignore')\n"
      ],
      "metadata": {
        "id": "cxi87fTL2dPQ"
      },
      "execution_count": null,
      "outputs": []
    },
    {
      "cell_type": "code",
      "source": [
        "\n",
        "\n",
        "mean = np.array([0.485, 0.456, 0.406])\n",
        "std = np.array([0.229, 0.224, 0.225])\n",
        "\n",
        "transformations = {\n",
        "    'train': transforms.Compose([\n",
        "        transforms.Resize((224,224)),\n",
        "        transforms.CenterCrop((224,224)),\n",
        "        transforms.RandomHorizontalFlip(),\n",
        "        transforms.ColorJitter(),\n",
        "        transforms.ToTensor(),\n",
        "        transforms.Normalize(mean,std)\n",
        "    ]),\n",
        "    'test': transforms.Compose([\n",
        "        transforms.Resize((224,224)),\n",
        "        transforms.CenterCrop((224,224)),\n",
        "        transforms.ToTensor(),\n",
        "        transforms.Normalize(mean,std)\n",
        "    ])\n",
        "}\n",
        "     \n"
      ],
      "metadata": {
        "id": "oLDD1FIt2hsg"
      },
      "execution_count": null,
      "outputs": []
    },
    {
      "cell_type": "code",
      "source": [
        "learning_rate = 0.01\n",
        "batch_size = 64\n",
        "num_epochs = 50\n",
        "num_classes = 5\n",
        "\n",
        "# device\n",
        "device = None\n",
        "if torch.cuda.is_available():\n",
        "    device = torch.device('cuda')\n",
        "else:\n",
        "    device = torch.device('cpu')\n",
        "    \n",
        "print(device)"
      ],
      "metadata": {
        "colab": {
          "base_uri": "https://localhost:8080/"
        },
        "id": "s1a2n3ip2uds",
        "outputId": "0c74532c-1ab2-41a4-bf28-511bf0ac1ffd"
      },
      "execution_count": null,
      "outputs": [
        {
          "output_type": "stream",
          "name": "stdout",
          "text": [
            "cuda\n"
          ]
        }
      ]
    },
    {
      "cell_type": "code",
      "source": [
        "total_dataset = torchvision.datasets.ImageFolder(DIR_PATH,transform=transformations['train'])\n",
        "\n",
        "len(total_dataset),total_dataset[0][0].shape,total_dataset.class_to_idx"
      ],
      "metadata": {
        "colab": {
          "base_uri": "https://localhost:8080/"
        },
        "id": "n7tIGKtq2yWc",
        "outputId": "1bc9e09b-749e-4430-9893-a0dfdeef4334"
      },
      "execution_count": null,
      "outputs": [
        {
          "output_type": "execute_result",
          "data": {
            "text/plain": [
              "(4317,\n",
              " torch.Size([3, 224, 224]),\n",
              " {'daisy': 0, 'dandelion': 1, 'rose': 2, 'sunflower': 3, 'tulip': 4})"
            ]
          },
          "metadata": {},
          "execution_count": 68
        }
      ]
    },
    {
      "cell_type": "code",
      "source": [
        "SPLIT_SIZE = 0.8\n",
        "tot_len = len(total_dataset)\n",
        "\n",
        "train_size = int(SPLIT_SIZE * tot_len)\n",
        "val_size = tot_len - train_size\n",
        "\n",
        "print(f'Training set size = {train_size} \\nValidation set size = {val_size}')\n",
        "\n",
        "train_dataset, val_dataset =  torch.utils.data.random_split(total_dataset,[train_size,val_size])\n",
        "\n",
        "len(train_dataset),len(val_dataset)"
      ],
      "metadata": {
        "colab": {
          "base_uri": "https://localhost:8080/"
        },
        "id": "qOP2X39c24YY",
        "outputId": "25898531-7544-4ddc-d06b-b55fd3f352f8"
      },
      "execution_count": null,
      "outputs": [
        {
          "output_type": "stream",
          "name": "stdout",
          "text": [
            "Training set size = 3453 \n",
            "Validation set size = 864\n"
          ]
        },
        {
          "output_type": "execute_result",
          "data": {
            "text/plain": [
              "(3453, 864)"
            ]
          },
          "metadata": {},
          "execution_count": 69
        }
      ]
    },
    {
      "cell_type": "code",
      "source": [
        "train_loader = DataLoader(dataset=train_dataset,\n",
        "                         batch_size=batch_size,\n",
        "                         shuffle=True,\n",
        "                         num_workers=4)\n",
        "\n",
        "val_loader = DataLoader(dataset=val_dataset,\n",
        "                       batch_size=1,\n",
        "                       shuffle=True,\n",
        "                       num_workers=4)"
      ],
      "metadata": {
        "id": "isVtPH2a339V"
      },
      "execution_count": null,
      "outputs": []
    },
    {
      "cell_type": "code",
      "source": [
        "class Net(nn.Module):\n",
        "    def __init__(self,model,num_classes):\n",
        "        super(Net,self).__init__()\n",
        "        self.base_model = nn.Sequential(model) \n",
        "        self.linear1 = nn.Linear(in_features=1000,out_features=128)\n",
        "        self.relu = nn.ReLU()\n",
        "        self.linear2 = nn.Linear(in_features=128,out_features=num_classes)\n",
        "    \n",
        "    def forward(self,x):\n",
        "        x = self.base_model(x)\n",
        "        x = torch.flatten(x,1)\n",
        "        lin = self.linear1(x)\n",
        "        x = self.relu(lin)\n",
        "        out = self.linear2(x)\n",
        "        return lin, out"
      ],
      "metadata": {
        "id": "qu0iSB8w4Dd4"
      },
      "execution_count": null,
      "outputs": []
    },
    {
      "cell_type": "code",
      "source": [
        "\n",
        "\n",
        "model = torchvision.models.alexnet(pretrained=True) # base model\n",
        "\n",
        "model = Net(model,num_classes)\n",
        "\n",
        "model = model.to(device)\n",
        "\n",
        "criterion = nn.CrossEntropyLoss()\n",
        "optimizer = torch.optim.SGD(model.parameters(),lr=learning_rate,momentum=0.9)\n",
        "     \n"
      ],
      "metadata": {
        "id": "gLpypUWb4Tyb"
      },
      "execution_count": null,
      "outputs": []
    },
    {
      "cell_type": "code",
      "source": [
        "\n",
        "print(model)"
      ],
      "metadata": {
        "id": "-1c3WLQ64d4d",
        "colab": {
          "base_uri": "https://localhost:8080/"
        },
        "outputId": "596629a4-e636-4fdc-ede0-91204c91304e"
      },
      "execution_count": null,
      "outputs": [
        {
          "output_type": "stream",
          "name": "stdout",
          "text": [
            "Net(\n",
            "  (base_model): Sequential(\n",
            "    (0): AlexNet(\n",
            "      (features): Sequential(\n",
            "        (0): Conv2d(3, 64, kernel_size=(11, 11), stride=(4, 4), padding=(2, 2))\n",
            "        (1): ReLU(inplace=True)\n",
            "        (2): MaxPool2d(kernel_size=3, stride=2, padding=0, dilation=1, ceil_mode=False)\n",
            "        (3): Conv2d(64, 192, kernel_size=(5, 5), stride=(1, 1), padding=(2, 2))\n",
            "        (4): ReLU(inplace=True)\n",
            "        (5): MaxPool2d(kernel_size=3, stride=2, padding=0, dilation=1, ceil_mode=False)\n",
            "        (6): Conv2d(192, 384, kernel_size=(3, 3), stride=(1, 1), padding=(1, 1))\n",
            "        (7): ReLU(inplace=True)\n",
            "        (8): Conv2d(384, 256, kernel_size=(3, 3), stride=(1, 1), padding=(1, 1))\n",
            "        (9): ReLU(inplace=True)\n",
            "        (10): Conv2d(256, 256, kernel_size=(3, 3), stride=(1, 1), padding=(1, 1))\n",
            "        (11): ReLU(inplace=True)\n",
            "        (12): MaxPool2d(kernel_size=3, stride=2, padding=0, dilation=1, ceil_mode=False)\n",
            "      )\n",
            "      (avgpool): AdaptiveAvgPool2d(output_size=(6, 6))\n",
            "      (classifier): Sequential(\n",
            "        (0): Dropout(p=0.5, inplace=False)\n",
            "        (1): Linear(in_features=9216, out_features=4096, bias=True)\n",
            "        (2): ReLU(inplace=True)\n",
            "        (3): Dropout(p=0.5, inplace=False)\n",
            "        (4): Linear(in_features=4096, out_features=4096, bias=True)\n",
            "        (5): ReLU(inplace=True)\n",
            "        (6): Linear(in_features=4096, out_features=1000, bias=True)\n",
            "      )\n",
            "    )\n",
            "  )\n",
            "  (linear1): Linear(in_features=1000, out_features=128, bias=True)\n",
            "  (relu): ReLU()\n",
            "  (linear2): Linear(in_features=128, out_features=5, bias=True)\n",
            ")\n"
          ]
        }
      ]
    },
    {
      "cell_type": "code",
      "source": [
        "n_iters = len(train_loader)\n",
        "running_loss = 0.0\n",
        "loss_values = []\n",
        "running_corrects = []\n",
        "epoch_acc = []\n",
        "acc_values = []\n",
        "for epoch in range(num_epochs):\n",
        "    model.train()\n",
        "    n_samples = 0.0\n",
        "    n_correct = 0.0\n",
        "    for ii,(images,labels) in enumerate(train_loader):\n",
        "        images = images.to(device)\n",
        "        labels = labels.to(device)\n",
        "        _,outputs = model(images)\n",
        "      \n",
        "    \n",
        "        loss = criterion(outputs,labels)\n",
        "        \n",
        "        # free_gpu_cache()\n",
        "        \n",
        "        loss.backward()\n",
        "        optimizer.step()\n",
        "        optimizer.zero_grad()\n",
        "        \n",
        "        if (ii+1)%54 == 0:\n",
        "            print(f'Epoch [{epoch+1}/{num_epochs}], Step [{ii+1}/{n_iters}], Loss = {loss.item():.6f}')\n",
        "            \n",
        "    print('----------------------------------------')\n",
        "     \n",
        "    _,preds = torch.max(outputs,1)\n",
        "    n_samples += labels.size(0)\n",
        "    n_correct += (preds == labels).sum().item()\n",
        "    acc_values.append(n_correct/labels.size(0))\n",
        "    running_loss =+ loss.item() * images.size(0)\n",
        "    loss_values.append(running_loss / len(train_loader))"
      ],
      "metadata": {
        "id": "-_qJL__O6MuA",
        "colab": {
          "base_uri": "https://localhost:8080/"
        },
        "outputId": "b4c40cc3-5ab1-4ddb-e190-bfa63ccfe04a"
      },
      "execution_count": null,
      "outputs": [
        {
          "output_type": "stream",
          "name": "stdout",
          "text": [
            "Epoch [1/50], Step [54/54], Loss = 0.490079\n",
            "----------------------------------------\n",
            "Epoch [2/50], Step [54/54], Loss = 0.455496\n",
            "----------------------------------------\n",
            "Epoch [3/50], Step [54/54], Loss = 0.321481\n",
            "----------------------------------------\n",
            "Epoch [4/50], Step [54/54], Loss = 0.343662\n",
            "----------------------------------------\n",
            "Epoch [5/50], Step [54/54], Loss = 0.151752\n",
            "----------------------------------------\n",
            "Epoch [6/50], Step [54/54], Loss = 0.324045\n",
            "----------------------------------------\n",
            "Epoch [7/50], Step [54/54], Loss = 0.368769\n",
            "----------------------------------------\n",
            "Epoch [8/50], Step [54/54], Loss = 0.114469\n",
            "----------------------------------------\n",
            "Epoch [9/50], Step [54/54], Loss = 0.110163\n",
            "----------------------------------------\n",
            "Epoch [10/50], Step [54/54], Loss = 0.072462\n",
            "----------------------------------------\n",
            "Epoch [11/50], Step [54/54], Loss = 0.058607\n",
            "----------------------------------------\n",
            "Epoch [12/50], Step [54/54], Loss = 0.160319\n",
            "----------------------------------------\n",
            "Epoch [13/50], Step [54/54], Loss = 0.041552\n",
            "----------------------------------------\n",
            "Epoch [14/50], Step [54/54], Loss = 0.137751\n",
            "----------------------------------------\n",
            "Epoch [15/50], Step [54/54], Loss = 0.034805\n",
            "----------------------------------------\n",
            "Epoch [16/50], Step [54/54], Loss = 0.032822\n",
            "----------------------------------------\n",
            "Epoch [17/50], Step [54/54], Loss = 0.026292\n",
            "----------------------------------------\n",
            "Epoch [18/50], Step [54/54], Loss = 0.101537\n",
            "----------------------------------------\n",
            "Epoch [19/50], Step [54/54], Loss = 0.185745\n",
            "----------------------------------------\n",
            "Epoch [20/50], Step [54/54], Loss = 0.029835\n",
            "----------------------------------------\n",
            "Epoch [21/50], Step [54/54], Loss = 0.127617\n",
            "----------------------------------------\n",
            "Epoch [22/50], Step [54/54], Loss = 0.034967\n",
            "----------------------------------------\n",
            "Epoch [23/50], Step [54/54], Loss = 0.053499\n",
            "----------------------------------------\n",
            "Epoch [24/50], Step [54/54], Loss = 0.101966\n",
            "----------------------------------------\n",
            "Epoch [25/50], Step [54/54], Loss = 0.034824\n",
            "----------------------------------------\n",
            "Epoch [26/50], Step [54/54], Loss = 0.006562\n",
            "----------------------------------------\n",
            "Epoch [27/50], Step [54/54], Loss = 0.028014\n",
            "----------------------------------------\n",
            "Epoch [28/50], Step [54/54], Loss = 0.001665\n",
            "----------------------------------------\n",
            "Epoch [29/50], Step [54/54], Loss = 0.031526\n",
            "----------------------------------------\n",
            "Epoch [30/50], Step [54/54], Loss = 0.091028\n",
            "----------------------------------------\n",
            "Epoch [31/50], Step [54/54], Loss = 0.099484\n",
            "----------------------------------------\n",
            "Epoch [32/50], Step [54/54], Loss = 0.058080\n",
            "----------------------------------------\n",
            "Epoch [33/50], Step [54/54], Loss = 0.006855\n",
            "----------------------------------------\n",
            "Epoch [34/50], Step [54/54], Loss = 0.014710\n",
            "----------------------------------------\n",
            "Epoch [35/50], Step [54/54], Loss = 0.000761\n",
            "----------------------------------------\n",
            "Epoch [36/50], Step [54/54], Loss = 0.202390\n",
            "----------------------------------------\n",
            "Epoch [37/50], Step [54/54], Loss = 0.040594\n",
            "----------------------------------------\n",
            "Epoch [38/50], Step [54/54], Loss = 0.003675\n",
            "----------------------------------------\n",
            "Epoch [39/50], Step [54/54], Loss = 0.000890\n",
            "----------------------------------------\n",
            "Epoch [40/50], Step [54/54], Loss = 0.012861\n",
            "----------------------------------------\n",
            "Epoch [41/50], Step [54/54], Loss = 0.015327\n",
            "----------------------------------------\n",
            "Epoch [42/50], Step [54/54], Loss = 0.000336\n",
            "----------------------------------------\n",
            "Epoch [43/50], Step [54/54], Loss = 0.013587\n",
            "----------------------------------------\n",
            "Epoch [44/50], Step [54/54], Loss = 0.021655\n",
            "----------------------------------------\n",
            "Epoch [45/50], Step [54/54], Loss = 0.000349\n",
            "----------------------------------------\n",
            "Epoch [46/50], Step [54/54], Loss = 0.000190\n",
            "----------------------------------------\n",
            "Epoch [47/50], Step [54/54], Loss = 0.053469\n",
            "----------------------------------------\n",
            "Epoch [48/50], Step [54/54], Loss = 0.001135\n",
            "----------------------------------------\n",
            "Epoch [49/50], Step [54/54], Loss = 0.000242\n",
            "----------------------------------------\n",
            "Epoch [50/50], Step [54/54], Loss = 0.000170\n",
            "----------------------------------------\n"
          ]
        }
      ]
    },
    {
      "cell_type": "code",
      "source": [
        "plt.plot(loss_values)\n",
        "plt.title('loss curve')\n",
        "plt.xlabel('Epoch')\n",
        "plt.ylabel('loss')"
      ],
      "metadata": {
        "colab": {
          "base_uri": "https://localhost:8080/",
          "height": 312
        },
        "id": "B1Rok3-_v2lC",
        "outputId": "bb1a6de3-d764-4ebe-8e28-cbdec5695fcd"
      },
      "execution_count": null,
      "outputs": [
        {
          "output_type": "execute_result",
          "data": {
            "text/plain": [
              "Text(0, 0.5, 'loss')"
            ]
          },
          "metadata": {},
          "execution_count": 80
        },
        {
          "output_type": "display_data",
          "data": {
            "text/plain": [
              "<Figure size 432x288 with 1 Axes>"
            ],
            "image/png": "[encoded data removed]"
          },
          "metadata": {
            "needs_background": "light"
          }
        }
      ]
    },
    {
      "cell_type": "code",
      "source": [
        "plt.plot(acc_values)\n",
        "plt.title('Accuracy curve')\n",
        "plt.xlabel('Epoch')\n",
        "plt.ylabel('acc')"
      ],
      "metadata": {
        "colab": {
          "base_uri": "https://localhost:8080/",
          "height": 312
        },
        "id": "J6DI72Mc5Pk_",
        "outputId": "5198a699-ce53-4413-8f5d-8ebc54dcd86d"
      },
      "execution_count": null,
      "outputs": [
        {
          "output_type": "execute_result",
          "data": {
            "text/plain": [
              "Text(0, 0.5, 'acc')"
            ]
          },
          "metadata": {},
          "execution_count": 81
        },
        {
          "output_type": "display_data",
          "data": {
            "text/plain": [
              "<Figure size 432x288 with 1 Axes>"
            ],
            "image/png": "[encoded data removed]"
          },
          "metadata": {
            "needs_background": "light"
          }
        }
      ]
    },
    {
      "cell_type": "code",
      "source": [
        "\n",
        "\n",
        "\n",
        "\n",
        "# evaluating model and getting features of every image\n",
        "\n",
        "def eval_model_extract_features(features,true_labels,model,dataloader,phase):\n",
        "\n",
        "    with torch.no_grad():\n",
        "        # for entire dataset\n",
        "        n_correct = 0\n",
        "        n_samples = 0\n",
        "\n",
        "        model.eval()\n",
        "\n",
        "        for images,labels in dataloader:\n",
        "\n",
        "            images = images.to(device)\n",
        "            labels = labels.to(device)\n",
        "\n",
        "            true_labels.append(labels)\n",
        "            \n",
        "            ftrs,outputs = model(images)\n",
        "            features.append(ftrs)\n",
        "\n",
        "            _,preds = torch.max(outputs,1)\n",
        "            predss.append(outputs)\n",
        "            n_samples += labels.size(0)\n",
        "            n_correct += (preds == labels).sum().item()\n",
        "                \n",
        "        accuracy = n_correct/float(n_samples)\n",
        "\n",
        "        print(f'Accuracy of model on {phase} set = {(100.0 * accuracy):.4f} %')\n",
        "\n",
        "    return features,predss,true_labels\n",
        "\n",
        "features = []   \n",
        "predss = []\n",
        "true_labels = []"
      ],
      "metadata": {
        "id": "Mg6JQcqB6R8Q"
      },
      "execution_count": null,
      "outputs": []
    },
    {
      "cell_type": "code",
      "source": [
        "train_loader = DataLoader(dataset=train_dataset,\n",
        "                         batch_size=1,\n",
        "                         shuffle=True,\n",
        "                         num_workers=4)\n",
        "\n",
        "features,predss,true_labels = eval_model_extract_features(features,true_labels,model,dataloader=train_loader,phase='training')\n"
      ],
      "metadata": {
        "id": "GaEwtXBN6Vnu",
        "colab": {
          "base_uri": "https://localhost:8080/"
        },
        "outputId": "eaedda87-fb70-4fc6-b501-6aff01b22df2"
      },
      "execution_count": null,
      "outputs": [
        {
          "output_type": "stream",
          "name": "stdout",
          "text": [
            "Accuracy of model on training set = 99.9131 %\n"
          ]
        }
      ]
    },
    {
      "cell_type": "code",
      "source": [
        "\n",
        "\n",
        "features,predss,true_labels = eval_model_extract_features(features,true_labels,model,dataloader=val_loader,phase='validation')\n",
        "\n",
        "print(len(features),len(true_labels))\n",
        "     \n"
      ],
      "metadata": {
        "id": "1-JokCDq6cpB",
        "colab": {
          "base_uri": "https://localhost:8080/"
        },
        "outputId": "04363554-4254-4c2a-81dd-dffdbb32a2c5"
      },
      "execution_count": null,
      "outputs": [
        {
          "output_type": "stream",
          "name": "stdout",
          "text": [
            "Accuracy of model on validation set = 87.7315 %\n",
            "4317 4317\n"
          ]
        }
      ]
    },
    {
      "cell_type": "code",
      "source": [
        "def plot_confusion_matrix(cm,\n",
        "                          normalize=False,\n",
        "                          title='Confusion matrix of flower images classifier',\n",
        "                          cmap=plt.cm.RdPu):\n",
        "\n",
        "    plt.figure(figsize = (5,5))\n",
        "    plt.imshow(cm, interpolation='nearest', cmap=cmap)\n",
        "    plt.title(title)\n",
        "    plt.colorbar()\n",
        "    tick_marks = np.arange(6)\n",
        "    plt.xticks(tick_marks, rotation=90)\n",
        "    plt.yticks(tick_marks)\n",
        "    if normalize:\n",
        "        cm = cm.astype('float') / cm.sum(axis=1)[:, np.newaxis]\n",
        "\n",
        "    thresh = cm.max() / 2.\n",
        "    for i, j in itertools.product(range(cm.shape[0]), range(cm.shape[1])):\n",
        "        plt.text(j, i, cm[i, j],\n",
        "                 horizontalalignment=\"center\",\n",
        "                 color=\"white\" if cm[i, j] > thresh else \"black\")\n",
        "    plt.tight_layout()\n",
        "    plt.ylabel('True label')\n",
        "    plt.xlabel('Predicted label')"
      ],
      "metadata": {
        "id": "1CT6_YpxXD7I"
      },
      "execution_count": null,
      "outputs": []
    },
    {
      "cell_type": "code",
      "source": [
        "true_labelss = []\n",
        "for i in range(len(true_labels)):\n",
        "  true_labelss.append(true_labels[i].cpu().numpy()[0])\n",
        "predsss = []\n",
        "for i in range(len(predss)):\n",
        "  predsss.append(predss[i].cpu().numpy()[0])"
      ],
      "metadata": {
        "id": "dzFZNm-lKaAO"
      },
      "execution_count": null,
      "outputs": []
    },
    {
      "cell_type": "code",
      "source": [
        "confusionMatrix = confusion_matrix(true_labelss, predsss)\n",
        "plot_confusion_matrix(confusionMatrix)"
      ],
      "metadata": {
        "colab": {
          "base_uri": "https://localhost:8080/",
          "height": 369
        },
        "id": "B8-ehvT9BOZt",
        "outputId": "8adee702-1c6e-4f53-a041-ce7d0f2c5b36"
      },
      "execution_count": null,
      "outputs": [
        {
          "output_type": "display_data",
          "data": {
            "text/plain": [
              "<Figure size 360x360 with 2 Axes>"
            ],
            "image/png": "[encoded data removed]"
          },
          "metadata": {
            "needs_background": "light"
          }
        }
      ]
    },
    {
      "cell_type": "code",
      "source": [
        "print(classification_report(true_labelss, predsss))"
      ],
      "metadata": {
        "colab": {
          "base_uri": "https://localhost:8080/"
        },
        "id": "RgeddesaDN9a",
        "outputId": "9e317559-ec2d-411c-cc85-2b21d6b979a7"
      },
      "execution_count": null,
      "outputs": [
        {
          "output_type": "stream",
          "name": "stdout",
          "text": [
            "              precision    recall  f1-score   support\n",
            "\n",
            "           0       0.96      0.96      0.96       903\n",
            "           1       0.98      0.96      0.97      1271\n",
            "           2       0.94      0.95      0.95       925\n",
            "           3       0.95      0.98      0.96       905\n",
            "           4       0.95      0.95      0.95      1177\n",
            "\n",
            "    accuracy                           0.96      5181\n",
            "   macro avg       0.96      0.96      0.96      5181\n",
            "weighted avg       0.96      0.96      0.96      5181\n",
            "\n"
          ]
        }
      ]
    },
    {
      "cell_type": "code",
      "source": [],
      "metadata": {
        "id": "B3ee_OXFJ_zs"
      },
      "execution_count": null,
      "outputs": []
    },
    {
      "cell_type": "code",
      "source": [],
      "metadata": {
        "id": "XZCt23MOJ_Uk"
      },
      "execution_count": null,
      "outputs": []
    }
  ]
}